{
 "cells": [
  {
   "cell_type": "markdown",
   "metadata": {},
   "source": [
    "# Example Usage for GeoCluster Package"
   ]
  },
  {
   "cell_type": "code",
   "execution_count": 1,
   "metadata": {},
   "outputs": [
    {
     "data": {
      "text/html": [
       "<style>.container { width:100% !important; }</style>"
      ],
      "text/plain": [
       "<IPython.core.display.HTML object>"
      ]
     },
     "metadata": {},
     "output_type": "display_data"
    },
    {
     "data": {
      "text/html": [
       "<style>div.output_area{max-height:10000px;overflow:scroll;}</style>"
      ],
      "text/plain": [
       "<IPython.core.display.HTML object>"
      ]
     },
     "metadata": {},
     "output_type": "display_data"
    },
    {
     "name": "stdout",
     "output_type": "stream",
     "text": [
      "Python: 3.6.5 |Anaconda, Inc.| (default, Apr 26 2018, 08:42:37) \n",
      "[GCC 4.2.1 Compatible Clang 4.0.1 (tags/RELEASE_401/final)]\n",
      "Notebook Last Run Initiated: 2018-11-01 13:56:09.841249\n"
     ]
    }
   ],
   "source": [
    "## Basic stuff\n",
    "#%load_ext autoreload\n",
    "#%autoreload\n",
    "from IPython.core.display import display, HTML\n",
    "display(HTML(\"<style>.container { width:100% !important; }</style>\"))\n",
    "display(HTML(\"\"\"<style>div.output_area{max-height:10000px;overflow:scroll;}</style>\"\"\"))\n",
    "\n",
    "\n",
    "## Python Version\n",
    "import sys\n",
    "print(\"Python: {0}\".format(sys.version))\n",
    "\n",
    "\n",
    "## Install\n",
    "from timeUtils import clock, elapsed\n",
    "from geocluster import geoClusters\n",
    "\n",
    "import datetime as dt\n",
    "start = dt.datetime.now()\n",
    "print(\"Notebook Last Run Initiated: \"+str(start))"
   ]
  },
  {
   "cell_type": "markdown",
   "metadata": {},
   "source": [
    "# Example GPS Data"
   ]
  },
  {
   "cell_type": "code",
   "execution_count": 107,
   "metadata": {},
   "outputs": [],
   "source": [
    "def convertMetersToLat(dist, debug=False):\n",
    "    from numpy import pi\n",
    "    \n",
    "    # Earth's radius, sphere\n",
    "    R=6378137\n",
    "\n",
    "    # Distances\n",
    "    dn = dist\n",
    "\n",
    "    # Coordinate offsets in radians\n",
    "    dLat = dn/R\n",
    "    \n",
    "    # OffsetPosition, decimal degrees\n",
    "    lat = dLat * 180/pi\n",
    "    \n",
    "    return lat\n",
    "\n",
    "def convertLatToMeters(ang, debug=False):\n",
    "    from numpy import pi\n",
    "    \n",
    "    # Earth's radius, sphere\n",
    "    R=6378137\n",
    "    \n",
    "    # convert decimal to radians\n",
    "    dLat = ang * pi/180\n",
    "    \n",
    "    # scale to Earth's radius\n",
    "    dist = dLat * R\n",
    "    \n",
    "    return dist\n",
    "\n",
    "def convertMetersToLong(dist, lat, debug=False):\n",
    "    from numpy import pi, cos\n",
    "\n",
    "    # Earth's radius, sphere\n",
    "    R=6378137\n",
    "\n",
    "    # Distances\n",
    "    de = dist\n",
    "\n",
    "    # Coordinate offsets in radians\n",
    "    dLon = de/(R*cos(pi*lat/180))\n",
    "    \n",
    "    # OffsetPosition, decimal degrees\n",
    "    lng = dLon * 180/pi\n",
    "    \n",
    "    return lng\n",
    "\n",
    "def convertLongToMeters(ang, lat, debug=False):\n",
    "    from numpy import pi, cos\n",
    "\n",
    "    # Earth's radius, sphere\n",
    "    R=6378137\n",
    "    \n",
    "    # convert decimal to radians\n",
    "    dLon = ang * pi/180\n",
    "    dLat = lat * pi/180\n",
    "    \n",
    "    # scale to Earth's radius with known latitude\n",
    "    dist = dLon * (R*cos(dLat))\n",
    "    \n",
    "    return dist"
   ]
  },
  {
   "cell_type": "code",
   "execution_count": 110,
   "metadata": {},
   "outputs": [
    {
     "data": {
      "text/plain": [
       "55659.745396636805"
      ]
     },
     "execution_count": 110,
     "metadata": {},
     "output_type": "execute_result"
    }
   ],
   "source": [
    "convertLatToMeters(1)\n",
    "convertLongToMeters(1, 0)\n",
    "convertLongToMeters(1, 30)\n",
    "convertLongToMeters(1, 60)"
   ]
  },
  {
   "cell_type": "code",
   "execution_count": 124,
   "metadata": {},
   "outputs": [],
   "source": [
    "def genCenters(n, latRange, lngRange, retList=False, debug=False):\n",
    "    from numpy.random import uniform\n",
    "    from numpy import array\n",
    "    \n",
    "    if debug:\n",
    "        print(\"Generating {0} Latitude centers between ({1}, {2})\".format(n, latRange[0], latRange[1]))\n",
    "    latvals = uniform(low=latRange[0], high=latRange[1], size=n)\n",
    "    \n",
    "    if debug:\n",
    "        print(\"Generating {0} Longitude centers between ({1}, {2})\".format(n, lngRange[0], lngRange[1]))\n",
    "    lngvals = uniform(low=lngRange[0], high=lngRange[1], size=n)\n",
    "        \n",
    "    if retList is True:\n",
    "        retval = list(zip(latvals, lngvals))\n",
    "    else:\n",
    "        arrs = [array(latvals), array(lngvals)]\n",
    "        retval = array(arrs).transpose()\n",
    "    \n",
    "    return retval\n",
    "\n",
    "def genCluster(npoints, center, dist=\"gauss\", maxrad=100, retList=False, debug=False):\n",
    "    from numpy.random import normal, uniform\n",
    "    from numpy import array\n",
    "    \n",
    "    ## Generate Latitude\n",
    "    if dist == \"gauss\":\n",
    "        mulat, siglat = center[0], convertMetersToLat(maxrad) # mean and standard deviation\n",
    "        if debug:\n",
    "            print(\"Generating Latitude {0} samples of Gaussian({1}, {2})\".format(npoints, mulat, round(siglat,5)))\n",
    "        lat = normal(mulat, siglat, npoints)\n",
    "    if dist == \"uniform\":\n",
    "        mulat, siglat = center[0], convertMetersToLat(maxrad) # mean and standard deviation\n",
    "        if debug:\n",
    "            print(\"Generating Latitude {0} samples of Uniform({1}, {2})\".format(npoints, mulat, round(siglat,5)))\n",
    "        lat = uniform(mulat, -siglat/2, siglat/2, npoints)\n",
    "    \n",
    "    \n",
    "    ## Generate Longitude\n",
    "    if dist == \"gauss\":\n",
    "        mulng, siglng = center[1], convertMetersToLong(maxrad, center[0]) # mean and standard deviation\n",
    "        if debug:\n",
    "            print(\"Generating Longitude {0} samples of Gaussian({1}, {2})\".format(npoints, mulng, round(siglng,5)))\n",
    "        lng = normal(mulng, siglng, npoints)\n",
    "    if dist == \"uniform\":\n",
    "        mulng, siglng = center[1], convertMetersToLong(maxrad, center[0]) # mean and standard deviation\n",
    "        if debug:\n",
    "            print(\"Generating Longitude {0} samples of Gaussian({1}, {2})\".format(npoints, mulng, round(siglng,5)))\n",
    "        lng = uniform(mulng, -siglng/2, siglat/2, npoints)\n",
    "    \n",
    "    arrs = [array(lat), array(lng)]\n",
    "    arr2d = array(arrs)\n",
    "    arr2d = arr2d.transpose()\n",
    "    \n",
    "    return arr2d\n",
    "\n",
    "def genClusters(n, ppc, latRange, lngRange, dist=\"gauss\", maxrad=100, mix=True, debug=False):\n",
    "    from numpy import ceil, vstack\n",
    "    from numpy.random import shuffle\n",
    "    \n",
    "    if debug:\n",
    "        print(\"Generating {0} Centers\".format(n))\n",
    "    centers = genCenters(n, latRange, lngRange, retList=True, debug=debug)\n",
    "    \n",
    "    clusters = []\n",
    "    for center in centers:\n",
    "        cluster = genCluster(npoints=ppc, center=center, dist=dist, maxrad=maxrad, retList=False, debug=debug)\n",
    "        clusters.append(cluster)\n",
    "    \n",
    "    retval = vstack(clusters)\n",
    "    if mix is True:\n",
    "        shuffle(retval)\n",
    "        \n",
    "    return retval"
   ]
  },
  {
   "cell_type": "code",
   "execution_count": 143,
   "metadata": {},
   "outputs": [],
   "source": [
    "genMax  = 75\n",
    "distMax = 500\n",
    "raw = genClusters(10, 250, latRange=[29.9, 30.1], lngRange=[29.9, 30.1], dist=\"gauss\", maxrad=genMax)"
   ]
  },
  {
   "cell_type": "code",
   "execution_count": 147,
   "metadata": {},
   "outputs": [
    {
     "name": "stdout",
     "output_type": "stream",
     "text": [
      "The autoreload extension is already loaded. To reload it, use:\n",
      "  %reload_ext autoreload\n",
      "Current Time is Thu Nov 01, 2018 17:10:06 for Converting 2500 Points To Correct Format\n",
      "Data has correct format with a (2500, 2) shape.\n",
      "Current Time is Thu Nov 01, 2018 17:10:06 for Done with Converting 2500 Points To Correct Format\n",
      "Process [Done with Converting 2500 Points To Correct Format] took 0 seconds.\n",
      "Current Time is Thu Nov 01, 2018 17:10:06 for Finding Geohash (BitLen=8) Values from 2500 Points\n",
      "Current Time is Thu Nov 01, 2018 17:10:06 for Done with Finding Geohash (BitLen=8) Values from 2500 Points\n",
      "Process [Done with Finding Geohash (BitLen=8) Values from 2500 Points] took 0 seconds.\n",
      "Current Time is Thu Nov 01, 2018 17:10:06 for Finding Geohash (BitLen=8) Frequency Values from Geohash DataFrame\n",
      "Current Time is Thu Nov 01, 2018 17:10:06 for Done with Finding Geohash (BitLen=8) Frequency Values from Geohash DataFrame\n",
      "Process [Done with Finding Geohash (BitLen=8) Frequency Values from Geohash DataFrame] took 0 seconds.\n",
      "Current Time is Thu Nov 01, 2018 17:10:06 for Finding Clusters with at least 2 counts\n",
      "  --> Creating cluster cl0 with seed stm7hq5h and 10 counts\n",
      "  --> Creating cluster cl1 with seed stm6es1e and 10 counts\n",
      "  --> Creating cluster cl2 with seed stm6g1mw and 10 counts\n",
      "  --> Creating cluster cl3 with seed stm6k718 and 10 counts\n",
      "  --> Creating cluster cl4 with seed stm63hw4 and 9 counts\n",
      "  --> Creating cluster cl5 with seed stm6981j and 8 counts\n",
      "  --> Creating cluster cl6 with seed stm6exfm and 8 counts\n",
      "  --> Creating cluster cl7 with seed stm63bzv and 7 counts\n",
      "  --> Creating cluster cl8 with seed stm6fq2z and 7 counts\n",
      "  --> Creating cluster cl9 with seed stm75nck and 6 counts\n",
      "Current Time is Thu Nov 01, 2018 17:10:06 for Done with Finding Clusters with at least 2 counts\n",
      "Process [Done with Finding Clusters with at least 2 counts] took 0 seconds.\n",
      "Found 10 clusters using 1187 cells and 2500 counts\n",
      "Plotting 10 clusters\n"
     ]
    },
    {
     "data": {
      "image/png": "[encoded data removed]",
      "text/plain": [
       "<Figure size 432x288 with 1 Axes>"
      ]
     },
     "metadata": {},
     "output_type": "display_data"
    }
   ],
   "source": [
    "def plotMeters(ax1, longMeters, latMeters):\n",
    "    ax2 = ax1.twinx()\n",
    "    ax2.plot(longMeters, latMeters, color='b', lw=0)\n",
    "    ax3 = ax1.twiny()\n",
    "    ax3.plot(longMeters, latMeters, color='b', lw=0)\n",
    "    \n",
    "def plotRawData(rawdata, color='cyan'):\n",
    "    import seaborn as sns\n",
    "    from matplotlib import pyplot as plt \n",
    "    fig, ax1 = plt.subplots()\n",
    "    lat = rawdata[:,0]\n",
    "    long = rawdata[:,1]\n",
    "    ax1.scatter(long, lat, s=15, linewidth=0, color='cyan', alpha=1) #c=cluster_member_colors, alpha=1)\n",
    "    return ax1\n",
    "\n",
    "def clusterData(rawdata, distMax):\n",
    "    %load_ext autoreload\n",
    "    %autoreload\n",
    "    gc = geoClusters(key=\"test\", points=rawdata, distMax=distMax, debug=True)\n",
    "    gc.findClusters(seedMin=2, debug=True)\n",
    "    if True:\n",
    "        print(\"Found {0} clusters using {1} cells and {2} counts\".format(gc.getNClusters(), gc.getNCells(), gc.getNCounts()))\n",
    "    return gc\n",
    "\n",
    "def plotClusters(ax1, gc, color='red'):\n",
    "    clusters = gc.getClusters()\n",
    "    coms = gc.getClusterCoMs()\n",
    "    color_palette = sns.color_palette('deep', 2)\n",
    "    patches = []\n",
    "    print(\"Plotting {0} clusters\".format(len(clusters)))\n",
    "    for cl, cluster in clusters.items():\n",
    "        radius = cluster.getRadius()\n",
    "        com    = cluster.getCoM()\n",
    "        quant  = cluster.getQuantiles()\n",
    "        radius = quant[-1]\n",
    "        ax1.scatter(com[1], com[0], s=10, marker='x', linewidth=2, c='black', alpha=1)\n",
    "\n",
    "        latDist = convertMetersToLat(radius)\n",
    "        circle = Circle(xy=(com[1], com[0]), radius=latDist)\n",
    "        patches.append(circle)\n",
    "\n",
    "    p = PatchCollection(patches, facecolor='red', alpha=0.25)\n",
    "    from numpy import array, linspace\n",
    "    #p.set_array(linspace(0,1,len(pcols)))\n",
    "    ax1.add_collection(p)\n",
    "\n",
    "latOff = lat - min(lat)\n",
    "latMeters = convertLatToMeters(latOff)\n",
    "lngOff = long - min(long)\n",
    "lngMeters = convertLongToMeters(lngOff, lat)\n",
    "\n",
    "#plotMeters(ax1, latMeters, lngMeters)\n",
    "gc  = clusterData(raw, distMax=distMax)\n",
    "ax1 = plotRawData(raw)\n",
    "ax1 = plotClusters(ax1, gc)"
   ]
  },
  {
   "cell_type": "code",
   "execution_count": null,
   "metadata": {},
   "outputs": [],
   "source": []
  }
 ],
 "metadata": {
  "kernelspec": {
   "display_name": "Python 3",
   "language": "python",
   "name": "python3"
  },
  "language_info": {
   "codemirror_mode": {
    "name": "ipython",
    "version": 3
   },
   "file_extension": ".py",
   "mimetype": "text/x-python",
   "name": "python",
   "nbconvert_exporter": "python",
   "pygments_lexer": "ipython3",
   "version": "3.6.5"
  }
 },
 "nbformat": 4,
 "nbformat_minor": 2
}
