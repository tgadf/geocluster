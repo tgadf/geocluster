{
 "cells": [
  {
   "cell_type": "markdown",
   "metadata": {},
   "source": [
    "# Example Usage for GeoCluster Package"
   ]
  },
  {
   "cell_type": "code",
   "execution_count": 1,
   "metadata": {},
   "outputs": [
    {
     "data": {
      "text/html": [
       "<style>.container { width:100% !important; }</style>"
      ],
      "text/plain": [
       "<IPython.core.display.HTML object>"
      ]
     },
     "metadata": {},
     "output_type": "display_data"
    },
    {
     "data": {
      "text/html": [
       "<style>div.output_area{max-height:10000px;overflow:scroll;}</style>"
      ],
      "text/plain": [
       "<IPython.core.display.HTML object>"
      ]
     },
     "metadata": {},
     "output_type": "display_data"
    },
    {
     "name": "stdout",
     "output_type": "stream",
     "text": [
      "Python: 3.6.5 |Anaconda custom (x86_64)| (default, Apr 26 2018, 08:42:37) \n",
      "[GCC 4.2.1 Compatible Clang 4.0.1 (tags/RELEASE_401/final)]\n",
      "Notebook Last Run Initiated: 2018-11-02 16:29:37.739688\n"
     ]
    }
   ],
   "source": [
    "## Basic stuff\n",
    "%load_ext autoreload\n",
    "%autoreload\n",
    "from IPython.core.display import display, HTML\n",
    "display(HTML(\"<style>.container { width:100% !important; }</style>\"))\n",
    "display(HTML(\"\"\"<style>div.output_area{max-height:10000px;overflow:scroll;}</style>\"\"\"))\n",
    "\n",
    "\n",
    "## Python Version\n",
    "import sys\n",
    "print(\"Python: {0}\".format(sys.version))\n",
    "\n",
    "\n",
    "## Install\n",
    "from timeUtils import clock, elapsed\n",
    "from ioUtils import saveJoblib\n",
    "from geocluster import geoClusters\n",
    "from geoclusterUtils import convertMetersToLat, convertLatToMeters, convertMetersToLong, convertLongToMeters\n",
    "from geoclusterUtils import genCenters, genCluster, genClusters, genTripsBetweenClusters\n",
    "\n",
    "import datetime as dt\n",
    "start = dt.datetime.now()\n",
    "print(\"Notebook Last Run Initiated: \"+str(start))"
   ]
  },
  {
   "cell_type": "markdown",
   "metadata": {},
   "source": [
    "# Example GPS Data"
   ]
  },
  {
   "cell_type": "code",
   "execution_count": 2,
   "metadata": {},
   "outputs": [],
   "source": [
    "genMax  = 75\n",
    "distMax = 500\n",
    "raw = genClusters(25, 250, latRange=[29.8, 30.2], lngRange=[49.8, 50.2], dist=\"gauss\", maxrad=genMax)"
   ]
  },
  {
   "cell_type": "code",
   "execution_count": 4,
   "metadata": {},
   "outputs": [
    {
     "name": "stdout",
     "output_type": "stream",
     "text": [
      "The autoreload extension is already loaded. To reload it, use:\n",
      "  %reload_ext autoreload\n",
      "Current Time is Fri Nov 02, 2018 16:30:24 for Converting 6250 Points To Correct Format\n",
      "Data has correct format with a (6250, 2) shape.\n",
      "Current Time is Fri Nov 02, 2018 16:30:24 for Done with Converting 6250 Points To Correct Format\n",
      "Process [Done with Converting 6250 Points To Correct Format] took 0 seconds.\n",
      "Current Time is Fri Nov 02, 2018 16:30:24 for Finding Geohash (BitLen=8) Values from 6250 Points\n",
      "Current Time is Fri Nov 02, 2018 16:30:25 for Done with Finding Geohash (BitLen=8) Values from 6250 Points\n",
      "Process [Done with Finding Geohash (BitLen=8) Values from 6250 Points] took 0 seconds.\n",
      "Current Time is Fri Nov 02, 2018 16:30:25 for Finding Geohash (BitLen=8) Frequency Values from Geohash DataFrame\n",
      "Current Time is Fri Nov 02, 2018 16:30:25 for Done with Finding Geohash (BitLen=8) Frequency Values from Geohash DataFrame\n",
      "Process [Done with Finding Geohash (BitLen=8) Frequency Values from Geohash DataFrame] took 0 seconds.\n",
      "Current Time is Fri Nov 02, 2018 16:30:25 for Finding Clusters with at least 2 counts\n",
      "  --> Creating cluster cl0 with seed tj79embx and 12 counts\n",
      "  --> Creating cluster cl1 with seed tj7dvgu5 and 10 counts\n",
      "  --> Creating cluster cl2 with seed tj77ngzc and 10 counts\n",
      "  --> Creating cluster cl3 with seed tj7e79ud and 10 counts\n",
      "  --> Creating cluster cl4 with seed tj7d419b and 10 counts\n",
      "  --> Creating cluster cl5 with seed tj76mfrx and 9 counts\n",
      "  --> Creating cluster cl6 with seed tj7d2yns and 9 counts\n",
      "  --> Creating cluster cl7 with seed tj77pm79 and 9 counts\n",
      "  --> Creating cluster cl8 with seed tj7es0jj and 9 counts\n",
      "  --> Creating cluster cl9 with seed tj77nn02 and 9 counts\n",
      "  --> Creating cluster cl10 with seed tj7d7vhv and 9 counts\n",
      "  --> Creating cluster cl11 with seed tj7d7fxw and 8 counts\n",
      "  --> Creating cluster cl12 with seed tj7esmf3 and 8 counts\n",
      "  --> Creating cluster cl13 with seed tj7emrwg and 8 counts\n",
      "  --> Creating cluster cl14 with seed tj79gy0v and 8 counts\n",
      "  --> Creating cluster cl15 with seed tj7ejt34 and 8 counts\n",
      "  --> Creating cluster cl16 with seed tj77jbrd and 8 counts\n",
      "  --> Creating cluster cl17 with seed tj7e6th3 and 7 counts\n",
      "  --> Creating cluster cl18 with seed tj79d7hu and 7 counts\n",
      "  --> Creating cluster cl19 with seed tj79c7f9 and 7 counts\n",
      "  --> Creating cluster cl20 with seed tj7dk4t4 and 7 counts\n",
      "  --> Creating cluster cl21 with seed tj76qj8y and 7 counts\n",
      "  --> Creating cluster cl22 with seed tj76p290 and 7 counts\n",
      "  --> Creating cluster cl23 with seed tj7d4spn and 6 counts\n",
      "  --> Creating cluster cl24 with seed tj77x9y0 and 6 counts\n",
      "Current Time is Fri Nov 02, 2018 16:30:26 for Done with Finding Clusters with at least 2 counts\n",
      "Process [Done with Finding Clusters with at least 2 counts] took 1 seconds.\n",
      "Found 25 clusters using 2899 cells and 6250 counts\n",
      "Plotting 25 clusters\n"
     ]
    },
    {
     "data": {
      "image/png": "[encoded data removed]",
      "text/plain": [
       "<Figure size 432x288 with 1 Axes>"
      ]
     },
     "metadata": {},
     "output_type": "display_data"
    }
   ],
   "source": [
    "def plotMeters(ax1, longMeters, latMeters):\n",
    "    ax2 = ax1.twinx()\n",
    "    ax2.plot(longMeters, latMeters, color='b', lw=0)\n",
    "    ax3 = ax1.twiny()\n",
    "    ax3.plot(longMeters, latMeters, color='b', lw=0)\n",
    "    \n",
    "def plotRawData(rawdata, color='cyan'):\n",
    "    import seaborn as sns\n",
    "    from matplotlib import pyplot as plt \n",
    "    fig, ax1 = plt.subplots()\n",
    "    lat = rawdata[:,0]\n",
    "    long = rawdata[:,1]\n",
    "    ax1.scatter(long, lat, s=15, linewidth=0, color='cyan', alpha=1) #c=cluster_member_colors, alpha=1)\n",
    "    return ax1\n",
    "\n",
    "def clusterData(rawdata, distMax):\n",
    "    %load_ext autoreload\n",
    "    %autoreload\n",
    "    gc = geoClusters(key=\"test\", points=rawdata, distMax=distMax, debug=True)\n",
    "    gc.findClusters(seedMin=2, debug=True)\n",
    "    if True:\n",
    "        print(\"Found {0} clusters using {1} cells and {2} counts\".format(gc.getNClusters(), gc.getNCells(), gc.getNCounts()))\n",
    "    return gc\n",
    "\n",
    "def plotClusters(ax1, gc, color='red'):\n",
    "    from seaborn import color_palette\n",
    "    from matplotlib.patches import Circle, Wedge, Polygon\n",
    "    from matplotlib.collections import PatchCollection\n",
    "    \n",
    "    clusters = gc.getClusters()\n",
    "    coms = gc.getClusterCoMs()\n",
    "    color_palette = color_palette('deep', 2)\n",
    "    patches = []\n",
    "    print(\"Plotting {0} clusters\".format(len(clusters)))\n",
    "    for cl, cluster in clusters.items():\n",
    "        radius = cluster.getRadius()\n",
    "        com    = cluster.getCoM()\n",
    "        quant  = cluster.getQuantiles()\n",
    "        \n",
    "        radius = quant[-1]\n",
    "        ax1.scatter(com[1], com[0], s=10, marker='x', linewidth=2, c='black', alpha=1)\n",
    "\n",
    "        latDist = convertMetersToLat(radius)\n",
    "        circle = Circle(xy=(com[1], com[0]), radius=latDist)\n",
    "        patches.append(circle)\n",
    "\n",
    "    p = PatchCollection(patches, facecolor='red', alpha=0.25)\n",
    "    from numpy import array, linspace\n",
    "    #p.set_array(linspace(0,1,len(pcols)))\n",
    "    ax1.add_collection(p)\n",
    "\n",
    "#latOff = lat - min(lat)\n",
    "#latMeters = convertLatToMeters(latOff)\n",
    "#lngOff = long - min(long)\n",
    "#lngMeters = convertLongToMeters(lngOff, lat)\n",
    "\n",
    "#plotMeters(ax1, latMeters, lngMeters)\n",
    "gc  = clusterData(raw, distMax=distMax)\n",
    "ax1 = plotRawData(raw)\n",
    "ax1 = plotClusters(ax1, gc)"
   ]
  },
  {
   "cell_type": "markdown",
   "metadata": {},
   "source": [
    "## Generate Random Data From Clusters"
   ]
  },
  {
   "cell_type": "code",
   "execution_count": 5,
   "metadata": {},
   "outputs": [],
   "source": [
    "data = genTripsBetweenClusters(1000, gc, returnLoc=True, returnDF=True)"
   ]
  },
  {
   "cell_type": "code",
   "execution_count": 6,
   "metadata": {},
   "outputs": [
    {
     "name": "stdout",
     "output_type": "stream",
     "text": [
      "  --> This file is 86.9kB.\n"
     ]
    }
   ],
   "source": [
    "saveJoblib(data, \"trips.p\")"
   ]
  },
  {
   "cell_type": "code",
   "execution_count": null,
   "metadata": {},
   "outputs": [],
   "source": []
  },
  {
   "cell_type": "code",
   "execution_count": null,
   "metadata": {},
   "outputs": [],
   "source": [
    "if False:\n",
    "    df['lat0']  = castFloat64(df['lat0'])\n",
    "    df['long0'] = castFloat64(df['long0'])\n",
    "    df['lat1']  = castFloat64(df['lat1'])\n",
    "    df['long1'] = castFloat64(df['long1'])\n",
    "    df['total_miles'] = castFloat64(df['total_miles'])\n",
    "    df = df.replace('nan', nan)\n",
    "    \n",
    "    \n",
    "start = df[[\"lat0\", \"long0\"]].values\n",
    "end   = df[[\"lat1\", \"long1\"]].values\n",
    "vals  = \n",
    "haversine(start[0], end[0])\n",
    "print(map(haversine, (start, end)))\n"
   ]
  },
  {
   "cell_type": "code",
   "execution_count": null,
   "metadata": {},
   "outputs": [],
   "source": []
  },
  {
   "cell_type": "code",
   "execution_count": null,
   "metadata": {},
   "outputs": [],
   "source": [
    "len("
   ]
  },
  {
   "cell_type": "code",
   "execution_count": null,
   "metadata": {},
   "outputs": [],
   "source": []
  }
 ],
 "metadata": {
  "kernelspec": {
   "display_name": "Python 3",
   "language": "python",
   "name": "python3"
  },
  "language_info": {
   "codemirror_mode": {
    "name": "ipython",
    "version": 3
   },
   "file_extension": ".py",
   "mimetype": "text/x-python",
   "name": "python",
   "nbconvert_exporter": "python",
   "pygments_lexer": "ipython3",
   "version": "3.6.5"
  }
 },
 "nbformat": 4,
 "nbformat_minor": 2
}
