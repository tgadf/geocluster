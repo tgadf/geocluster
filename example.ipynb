{
 "cells": [
  {
   "cell_type": "markdown",
   "metadata": {},
   "source": [
    "# Example Usage for GeoCluster Package"
   ]
  },
  {
   "cell_type": "code",
   "execution_count": 1,
   "metadata": {},
   "outputs": [
    {
     "data": {
      "text/html": [
       "<style>.container { width:100% !important; }</style>"
      ],
      "text/plain": [
       "<IPython.core.display.HTML object>"
      ]
     },
     "metadata": {},
     "output_type": "display_data"
    },
    {
     "data": {
      "text/html": [
       "<style>div.output_area{max-height:10000px;overflow:scroll;}</style>"
      ],
      "text/plain": [
       "<IPython.core.display.HTML object>"
      ]
     },
     "metadata": {},
     "output_type": "display_data"
    },
    {
     "name": "stdout",
     "output_type": "stream",
     "text": [
      "Python: 3.6.5 |Anaconda custom (x86_64)| (default, Apr 26 2018, 08:42:37) \n",
      "[GCC 4.2.1 Compatible Clang 4.0.1 (tags/RELEASE_401/final)]\n"
     ]
    },
    {
     "ename": "ImportError",
     "evalue": "cannot import name 'convertMetersToLat'",
     "output_type": "error",
     "traceback": [
      "\u001b[0;31m---------------------------------------------------------------------------\u001b[0m",
      "\u001b[0;31mImportError\u001b[0m                               Traceback (most recent call last)",
      "\u001b[0;32m<ipython-input-1-60d25dcb6a96>\u001b[0m in \u001b[0;36m<module>\u001b[0;34m()\u001b[0m\n\u001b[1;32m     16\u001b[0m \u001b[0;32mfrom\u001b[0m \u001b[0mioUtils\u001b[0m \u001b[0;32mimport\u001b[0m \u001b[0msaveJoblib\u001b[0m\u001b[0;34m\u001b[0m\u001b[0m\n\u001b[1;32m     17\u001b[0m \u001b[0;32mfrom\u001b[0m \u001b[0mgeocluster\u001b[0m \u001b[0;32mimport\u001b[0m \u001b[0mgeoClusters\u001b[0m\u001b[0;34m\u001b[0m\u001b[0m\n\u001b[0;32m---> 18\u001b[0;31m \u001b[0;32mfrom\u001b[0m \u001b[0mgeoUtils\u001b[0m \u001b[0;32mimport\u001b[0m \u001b[0mconvertMetersToLat\u001b[0m\u001b[0;34m,\u001b[0m \u001b[0mconvertLatToMeters\u001b[0m\u001b[0;34m,\u001b[0m \u001b[0mconvertMetersToLong\u001b[0m\u001b[0;34m,\u001b[0m \u001b[0mconvertLongToMeters\u001b[0m\u001b[0;34m\u001b[0m\u001b[0m\n\u001b[0m\u001b[1;32m     19\u001b[0m \u001b[0;32mfrom\u001b[0m \u001b[0mgeoclusterUtils\u001b[0m \u001b[0;32mimport\u001b[0m \u001b[0mgenCenters\u001b[0m\u001b[0;34m,\u001b[0m \u001b[0mgenCluster\u001b[0m\u001b[0;34m,\u001b[0m \u001b[0mgenClusters\u001b[0m\u001b[0;34m,\u001b[0m \u001b[0mgenTripsBetweenClusters\u001b[0m\u001b[0;34m\u001b[0m\u001b[0m\n\u001b[1;32m     20\u001b[0m \u001b[0;34m\u001b[0m\u001b[0m\n",
      "\u001b[0;31mImportError\u001b[0m: cannot import name 'convertMetersToLat'"
     ]
    }
   ],
   "source": [
    "## Basic stuff\n",
    "%load_ext autoreload\n",
    "%autoreload\n",
    "from IPython.core.display import display, HTML\n",
    "display(HTML(\"<style>.container { width:100% !important; }</style>\"))\n",
    "display(HTML(\"\"\"<style>div.output_area{max-height:10000px;overflow:scroll;}</style>\"\"\"))\n",
    "\n",
    "\n",
    "## Python Version\n",
    "import sys\n",
    "print(\"Python: {0}\".format(sys.version))\n",
    "\n",
    "\n",
    "## Install\n",
    "from timeUtils import clock, elapsed\n",
    "from ioUtils import saveJoblib\n",
    "from geocluster import geoClusters\n",
    "from geoUtils import convertMetersToLat, convertLatToMeters, convertMetersToLong, convertLongToMeters\n",
    "from geoclusterUtils import genCenters, genCluster, genClusters, genTripsBetweenClusters\n",
    "\n",
    "import datetime as dt\n",
    "start = dt.datetime.now()\n",
    "print(\"Notebook Last Run Initiated: \"+str(start))"
   ]
  },
  {
   "cell_type": "markdown",
   "metadata": {},
   "source": [
    "\n",
    "\n",
    "\n",
    "\n",
    "\n",
    "\n",
    "\n",
    "\n",
    "\n",
    "\n",
    "\n",
    "\n",
    "\n",
    "\n",
    "\n",
    "\n",
    "\n",
    "\n",
    "\n",
    "\n",
    "\n",
    "\n",
    "\n",
    "\n",
    "\n",
    "\n",
    "\n",
    "\n",
    "\n",
    "\n",
    "\n",
    "\n",
    "\n",
    "\n",
    "\n",
    "\n",
    "\n",
    "\n",
    "\n",
    "\n",
    "# Example GPS Data"
   ]
  },
  {
   "cell_type": "code",
   "execution_count": null,
   "metadata": {},
   "outputs": [],
   "source": [
    "genMax  = 75\n",
    "distMax = 500\n",
    "raw = genClusters(25, 250, latRange=[29.8, 30.2], lngRange=[49.8, 50.2], dist=\"gauss\", maxrad=genMax)"
   ]
  },
  {
   "cell_type": "code",
   "execution_count": null,
   "metadata": {},
   "outputs": [],
   "source": [
    "def plotMeters(ax1, longMeters, latMeters):\n",
    "    ax2 = ax1.twinx()\n",
    "    ax2.plot(longMeters, latMeters, color='b', lw=0)\n",
    "    ax3 = ax1.twiny()\n",
    "    ax3.plot(longMeters, latMeters, color='b', lw=0)\n",
    "    \n",
    "def plotRawData(rawdata, color='cyan'):\n",
    "    import seaborn as sns\n",
    "    from matplotlib import pyplot as plt \n",
    "    fig, ax1 = plt.subplots()\n",
    "    lat = rawdata[:,0]\n",
    "    long = rawdata[:,1]\n",
    "    ax1.scatter(long, lat, s=15, linewidth=0, color='cyan', alpha=1) #c=cluster_member_colors, alpha=1)\n",
    "    return ax1\n",
    "\n",
    "def clusterData(rawdata, distMax):\n",
    "    %load_ext autoreload\n",
    "    %autoreload\n",
    "    gc = geoClusters(key=\"test\", points=rawdata, distMax=distMax, debug=True)\n",
    "    gc.findClusters(seedMin=2, debug=True)\n",
    "    if True:\n",
    "        print(\"Found {0} clusters using {1} cells and {2} counts\".format(gc.getNClusters(), gc.getNCells(), gc.getNCounts()))\n",
    "    return gc\n",
    "\n",
    "def plotClusters(ax1, gc, color='red'):\n",
    "    from seaborn import color_palette\n",
    "    from matplotlib.patches import Circle, Wedge, Polygon\n",
    "    from matplotlib.collections import PatchCollection\n",
    "    \n",
    "    clusters = gc.getClusters()\n",
    "    coms = gc.getClusterCoMs()\n",
    "    color_palette = color_palette('deep', 2)\n",
    "    patches = []\n",
    "    print(\"Plotting {0} clusters\".format(len(clusters)))\n",
    "    for cl, cluster in clusters.items():\n",
    "        radius = cluster.getRadius()\n",
    "        com    = cluster.getCoM()\n",
    "        quant  = cluster.getQuantiles()\n",
    "        \n",
    "        radius = quant[-1]\n",
    "        ax1.scatter(com[1], com[0], s=10, marker='x', linewidth=2, c='black', alpha=1)\n",
    "\n",
    "        latDist = convertMetersToLat(radius)\n",
    "        circle = Circle(xy=(com[1], com[0]), radius=latDist)\n",
    "        patches.append(circle)\n",
    "\n",
    "    p = PatchCollection(patches, facecolor='red', alpha=0.25)\n",
    "    from numpy import array, linspace\n",
    "    #p.set_array(linspace(0,1,len(pcols)))\n",
    "    ax1.add_collection(p)\n",
    "\n",
    "#latOff = lat - min(lat)\n",
    "#latMeters = convertLatToMeters(latOff)\n",
    "#lngOff = long - min(long)\n",
    "#lngMeters = convertLongToMeters(lngOff, lat)\n",
    "\n",
    "#plotMeters(ax1, latMeters, lngMeters)\n",
    "gc  = clusterData(raw, distMax=distMax)\n",
    "ax1 = plotRawData(raw)\n",
    "ax1 = plotClusters(ax1, gc)"
   ]
  },
  {
   "cell_type": "markdown",
   "metadata": {},
   "source": [
    "## Generate Random Data From Clusters"
   ]
  },
  {
   "cell_type": "code",
   "execution_count": null,
   "metadata": {},
   "outputs": [],
   "source": [
    "data = genTripsBetweenClusters(1000, gc, returnLoc=True, returnDF=True)"
   ]
  },
  {
   "cell_type": "code",
   "execution_count": null,
   "metadata": {},
   "outputs": [],
   "source": [
    "saveJoblib(data, \"trips.p\")"
   ]
  },
  {
   "cell_type": "code",
   "execution_count": null,
   "metadata": {},
   "outputs": [],
   "source": []
  },
  {
   "cell_type": "code",
   "execution_count": null,
   "metadata": {},
   "outputs": [],
   "source": [
    "if False:\n",
    "    df['lat0']  = castFloat64(df['lat0'])\n",
    "    df['long0'] = castFloat64(df['long0'])\n",
    "    df['lat1']  = castFloat64(df['lat1'])\n",
    "    df['long1'] = castFloat64(df['long1'])\n",
    "    df['total_miles'] = castFloat64(df['total_miles'])\n",
    "    df = df.replace('nan', nan)\n",
    "    \n",
    "    \n",
    "start = df[[\"lat0\", \"long0\"]].values\n",
    "end   = df[[\"lat1\", \"long1\"]].values\n",
    "vals  = \n",
    "haversine(start[0], end[0])\n",
    "print(map(haversine, (start, end)))\n"
   ]
  },
  {
   "cell_type": "code",
   "execution_count": null,
   "metadata": {},
   "outputs": [],
   "source": []
  },
  {
   "cell_type": "code",
   "execution_count": null,
   "metadata": {},
   "outputs": [],
   "source": [
    "len("
   ]
  },
  {
   "cell_type": "code",
   "execution_count": null,
   "metadata": {},
   "outputs": [],
   "source": []
  }
 ],
 "metadata": {
  "kernelspec": {
   "display_name": "Python 3",
   "language": "python",
   "name": "python3"
  },
  "language_info": {
   "codemirror_mode": {
    "name": "ipython",
    "version": 3
   },
   "file_extension": ".py",
   "mimetype": "text/x-python",
   "name": "python",
   "nbconvert_exporter": "python",
   "pygments_lexer": "ipython3",
   "version": "3.6.5"
  }
 },
 "nbformat": 4,
 "nbformat_minor": 2
}
